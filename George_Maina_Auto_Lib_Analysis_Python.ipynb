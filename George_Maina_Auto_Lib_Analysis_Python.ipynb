{
  "nbformat": 4,
  "nbformat_minor": 0,
  "metadata": {
    "colab": {
      "name": "George_Maina_Auto_Lib_Analysis_Python",
      "provenance": [],
      "collapsed_sections": [],
      "authorship_tag": "ABX9TyO8x2KSrGPWxAV12ztzH+Na",
      "include_colab_link": true
    },
    "kernelspec": {
      "name": "python3",
      "display_name": "Python 3"
    },
    "language_info": {
      "name": "python"
    }
  },
  "cells": [
    {
      "cell_type": "markdown",
      "metadata": {
        "id": "view-in-github",
        "colab_type": "text"
      },
      "source": [
        "<a href=\"https://colab.research.google.com/github/GMaina716/AUTOLIB-ANALYSIS/blob/main/George_Maina_Auto_Lib_Analysis_Python.ipynb\" target=\"_parent\"><img src=\"https://colab.research.google.com/assets/colab-badge.svg\" alt=\"Open In Colab\"/></a>"
      ]
    },
    {
      "cell_type": "code",
      "metadata": {
        "id": "KikrK-ird4hD"
      },
      "source": [
        "import pandas as pd\n",
        "import numpy as np\n",
        "import datetime \n",
        "import matplotlib.pyplot as plt"
      ],
      "execution_count": 1,
      "outputs": []
    },
    {
      "cell_type": "code",
      "metadata": {
        "colab": {
          "base_uri": "https://localhost:8080/",
          "height": 434
        },
        "id": "GFFrKuKVd4iO",
        "outputId": "cd98a52a-7eca-4a08-8e17-de203a781f32"
      },
      "source": [
        "autos=pd.read_csv('/content/Autolib_dataset (2).csv')\n",
        "autos.head()"
      ],
      "execution_count": 2,
      "outputs": [
        {
          "output_type": "execute_result",
          "data": {
            "text/html": [
              "<div>\n",
              "<style scoped>\n",
              "    .dataframe tbody tr th:only-of-type {\n",
              "        vertical-align: middle;\n",
              "    }\n",
              "\n",
              "    .dataframe tbody tr th {\n",
              "        vertical-align: top;\n",
              "    }\n",
              "\n",
              "    .dataframe thead th {\n",
              "        text-align: right;\n",
              "    }\n",
              "</style>\n",
              "<table border=\"1\" class=\"dataframe\">\n",
              "  <thead>\n",
              "    <tr style=\"text-align: right;\">\n",
              "      <th></th>\n",
              "      <th>Address</th>\n",
              "      <th>Cars</th>\n",
              "      <th>Bluecar counter</th>\n",
              "      <th>Utilib counter</th>\n",
              "      <th>Utilib 1.4 counter</th>\n",
              "      <th>Charge Slots</th>\n",
              "      <th>Charging Status</th>\n",
              "      <th>City</th>\n",
              "      <th>Displayed comment</th>\n",
              "      <th>ID</th>\n",
              "      <th>Kind</th>\n",
              "      <th>Geo point</th>\n",
              "      <th>Postal code</th>\n",
              "      <th>Public name</th>\n",
              "      <th>Rental status</th>\n",
              "      <th>Scheduled at</th>\n",
              "      <th>Slots</th>\n",
              "      <th>Station type</th>\n",
              "      <th>Status</th>\n",
              "      <th>Subscription status</th>\n",
              "      <th>year</th>\n",
              "      <th>month</th>\n",
              "      <th>day</th>\n",
              "      <th>hour</th>\n",
              "      <th>minute</th>\n",
              "    </tr>\n",
              "  </thead>\n",
              "  <tbody>\n",
              "    <tr>\n",
              "      <th>0</th>\n",
              "      <td>2 Avenue de Suffren</td>\n",
              "      <td>0</td>\n",
              "      <td>0</td>\n",
              "      <td>0</td>\n",
              "      <td>0</td>\n",
              "      <td>0</td>\n",
              "      <td>nonexistent</td>\n",
              "      <td>Paris</td>\n",
              "      <td>NaN</td>\n",
              "      <td>paris-suffren-2</td>\n",
              "      <td>STATION</td>\n",
              "      <td>48.857, 2.2917</td>\n",
              "      <td>75015</td>\n",
              "      <td>Paris/Suffren/2</td>\n",
              "      <td>operational</td>\n",
              "      <td>NaN</td>\n",
              "      <td>2</td>\n",
              "      <td>station</td>\n",
              "      <td>ok</td>\n",
              "      <td>nonexistent</td>\n",
              "      <td>2018</td>\n",
              "      <td>4</td>\n",
              "      <td>8</td>\n",
              "      <td>11</td>\n",
              "      <td>43</td>\n",
              "    </tr>\n",
              "    <tr>\n",
              "      <th>1</th>\n",
              "      <td>145 Rue Raymond Losserand</td>\n",
              "      <td>6</td>\n",
              "      <td>6</td>\n",
              "      <td>0</td>\n",
              "      <td>0</td>\n",
              "      <td>0</td>\n",
              "      <td>operational</td>\n",
              "      <td>Paris</td>\n",
              "      <td>NaN</td>\n",
              "      <td>paris-raymondlosserand-145</td>\n",
              "      <td>STATION</td>\n",
              "      <td>48.83126, 2.313088</td>\n",
              "      <td>75014</td>\n",
              "      <td>Paris/Raymond Losserand/145</td>\n",
              "      <td>operational</td>\n",
              "      <td>NaN</td>\n",
              "      <td>0</td>\n",
              "      <td>station</td>\n",
              "      <td>ok</td>\n",
              "      <td>nonexistent</td>\n",
              "      <td>2018</td>\n",
              "      <td>4</td>\n",
              "      <td>6</td>\n",
              "      <td>7</td>\n",
              "      <td>24</td>\n",
              "    </tr>\n",
              "    <tr>\n",
              "      <th>2</th>\n",
              "      <td>2 Avenue John Fitzgerald Kennedy</td>\n",
              "      <td>3</td>\n",
              "      <td>3</td>\n",
              "      <td>0</td>\n",
              "      <td>2</td>\n",
              "      <td>0</td>\n",
              "      <td>operational</td>\n",
              "      <td>Le Bourget</td>\n",
              "      <td>NaN</td>\n",
              "      <td>lebourget-johnfitzgeraldkennedy-2</td>\n",
              "      <td>STATION</td>\n",
              "      <td>48.938103, 2.4286035</td>\n",
              "      <td>93350</td>\n",
              "      <td>Le Bourget/John Fitzgerald Kennedy/2</td>\n",
              "      <td>operational</td>\n",
              "      <td>NaN</td>\n",
              "      <td>1</td>\n",
              "      <td>station</td>\n",
              "      <td>ok</td>\n",
              "      <td>nonexistent</td>\n",
              "      <td>2018</td>\n",
              "      <td>4</td>\n",
              "      <td>3</td>\n",
              "      <td>20</td>\n",
              "      <td>14</td>\n",
              "    </tr>\n",
              "    <tr>\n",
              "      <th>3</th>\n",
              "      <td>51 Rue EugÃ¨ne OudinÃ©</td>\n",
              "      <td>3</td>\n",
              "      <td>3</td>\n",
              "      <td>1</td>\n",
              "      <td>0</td>\n",
              "      <td>1</td>\n",
              "      <td>operational</td>\n",
              "      <td>Paris</td>\n",
              "      <td>NaN</td>\n",
              "      <td>paris-eugeneoudine-51</td>\n",
              "      <td>STATION</td>\n",
              "      <td>48.8250327, 2.3725162</td>\n",
              "      <td>75013</td>\n",
              "      <td>Paris/EugÃ¨ne OudinÃ©/51</td>\n",
              "      <td>operational</td>\n",
              "      <td>NaN</td>\n",
              "      <td>2</td>\n",
              "      <td>station</td>\n",
              "      <td>ok</td>\n",
              "      <td>nonexistent</td>\n",
              "      <td>2018</td>\n",
              "      <td>4</td>\n",
              "      <td>4</td>\n",
              "      <td>4</td>\n",
              "      <td>37</td>\n",
              "    </tr>\n",
              "    <tr>\n",
              "      <th>4</th>\n",
              "      <td>6 avenue de la Porte de Champerret</td>\n",
              "      <td>3</td>\n",
              "      <td>3</td>\n",
              "      <td>0</td>\n",
              "      <td>0</td>\n",
              "      <td>0</td>\n",
              "      <td>nonexistent</td>\n",
              "      <td>Paris</td>\n",
              "      <td>NaN</td>\n",
              "      <td>paris-portedechamperret-6</td>\n",
              "      <td>PARKING</td>\n",
              "      <td>48.8862632, 2.2874511</td>\n",
              "      <td>75017</td>\n",
              "      <td>Paris/Porte de Champerret/6</td>\n",
              "      <td>operational</td>\n",
              "      <td>NaN</td>\n",
              "      <td>3</td>\n",
              "      <td>station</td>\n",
              "      <td>ok</td>\n",
              "      <td>nonexistent</td>\n",
              "      <td>2018</td>\n",
              "      <td>4</td>\n",
              "      <td>8</td>\n",
              "      <td>17</td>\n",
              "      <td>23</td>\n",
              "    </tr>\n",
              "  </tbody>\n",
              "</table>\n",
              "</div>"
            ],
            "text/plain": [
              "                              Address  Cars  Bluecar counter  ...  day  hour  minute\n",
              "0                 2 Avenue de Suffren     0                0  ...    8    11      43\n",
              "1           145 Rue Raymond Losserand     6                6  ...    6     7      24\n",
              "2    2 Avenue John Fitzgerald Kennedy     3                3  ...    3    20      14\n",
              "3              51 Rue EugÃ¨ne OudinÃ©     3                3  ...    4     4      37\n",
              "4  6 avenue de la Porte de Champerret     3                3  ...    8    17      23\n",
              "\n",
              "[5 rows x 25 columns]"
            ]
          },
          "metadata": {
            "tags": []
          },
          "execution_count": 2
        }
      ]
    },
    {
      "cell_type": "code",
      "metadata": {
        "colab": {
          "base_uri": "https://localhost:8080/"
        },
        "id": "MdUeJqv9_lC9",
        "outputId": "14d44ece-6a75-4a1a-a9b3-76de34b51d00"
      },
      "source": [
        "#creating a copy of the dataset\n",
        "auto=autos.copy()\n",
        "auto.shape"
      ],
      "execution_count": 3,
      "outputs": [
        {
          "output_type": "execute_result",
          "data": {
            "text/plain": [
              "(5000, 25)"
            ]
          },
          "metadata": {
            "tags": []
          },
          "execution_count": 3
        }
      ]
    },
    {
      "cell_type": "code",
      "metadata": {
        "colab": {
          "base_uri": "https://localhost:8080/"
        },
        "id": "Xj3SXgBGd4mO",
        "outputId": "0e17f336-2a07-4fa4-c0cd-fbb118bcf9cd"
      },
      "source": [
        "#getting a look at the data first\n",
        "print('shape of original dataset', auto.shape)\n",
        "print('size of the original dataset',auto.size)\n",
        "print('dimensions of the original dataset',auto.ndim)"
      ],
      "execution_count": 4,
      "outputs": [
        {
          "output_type": "stream",
          "text": [
            "shape of original dataset (5000, 25)\n",
            "size of the original dataset 125000\n",
            "dimensions of the original dataset 2\n"
          ],
          "name": "stdout"
        }
      ]
    },
    {
      "cell_type": "code",
      "metadata": {
        "colab": {
          "base_uri": "https://localhost:8080/"
        },
        "id": "9zbIdeOFd4nW",
        "outputId": "d22d689f-c116-47f1-b4d3-4828b3bac691"
      },
      "source": [
        "#look at info of the data\n",
        "print('Info of the original dataset\\n\\n\\n')\n",
        "auto.info()"
      ],
      "execution_count": 5,
      "outputs": [
        {
          "output_type": "stream",
          "text": [
            "Info of the original dataset\n",
            "\n",
            "\n",
            "\n",
            "<class 'pandas.core.frame.DataFrame'>\n",
            "RangeIndex: 5000 entries, 0 to 4999\n",
            "Data columns (total 25 columns):\n",
            " #   Column               Non-Null Count  Dtype \n",
            "---  ------               --------------  ----- \n",
            " 0   Address              5000 non-null   object\n",
            " 1   Cars                 5000 non-null   int64 \n",
            " 2   Bluecar counter      5000 non-null   int64 \n",
            " 3   Utilib counter       5000 non-null   int64 \n",
            " 4   Utilib 1.4 counter   5000 non-null   int64 \n",
            " 5   Charge Slots         5000 non-null   int64 \n",
            " 6   Charging Status      5000 non-null   object\n",
            " 7   City                 5000 non-null   object\n",
            " 8   Displayed comment    111 non-null    object\n",
            " 9   ID                   5000 non-null   object\n",
            " 10  Kind                 5000 non-null   object\n",
            " 11  Geo point            5000 non-null   object\n",
            " 12  Postal code          5000 non-null   int64 \n",
            " 13  Public name          5000 non-null   object\n",
            " 14  Rental status        5000 non-null   object\n",
            " 15  Scheduled at         47 non-null     object\n",
            " 16  Slots                5000 non-null   int64 \n",
            " 17  Station type         5000 non-null   object\n",
            " 18  Status               5000 non-null   object\n",
            " 19  Subscription status  5000 non-null   object\n",
            " 20  year                 5000 non-null   int64 \n",
            " 21  month                5000 non-null   int64 \n",
            " 22  day                  5000 non-null   int64 \n",
            " 23  hour                 5000 non-null   int64 \n",
            " 24  minute               5000 non-null   int64 \n",
            "dtypes: int64(12), object(13)\n",
            "memory usage: 976.7+ KB\n"
          ],
          "name": "stdout"
        }
      ]
    },
    {
      "cell_type": "code",
      "metadata": {
        "colab": {
          "base_uri": "https://localhost:8080/",
          "height": 407
        },
        "id": "Cr-4Q46IDYsf",
        "outputId": "cc993731-33a9-4c38-e120-ff6add0079ec"
      },
      "source": [
        "#statistical summary of the dataset\n",
        "auto.describe().T"
      ],
      "execution_count": 6,
      "outputs": [
        {
          "output_type": "execute_result",
          "data": {
            "text/html": [
              "<div>\n",
              "<style scoped>\n",
              "    .dataframe tbody tr th:only-of-type {\n",
              "        vertical-align: middle;\n",
              "    }\n",
              "\n",
              "    .dataframe tbody tr th {\n",
              "        vertical-align: top;\n",
              "    }\n",
              "\n",
              "    .dataframe thead th {\n",
              "        text-align: right;\n",
              "    }\n",
              "</style>\n",
              "<table border=\"1\" class=\"dataframe\">\n",
              "  <thead>\n",
              "    <tr style=\"text-align: right;\">\n",
              "      <th></th>\n",
              "      <th>count</th>\n",
              "      <th>mean</th>\n",
              "      <th>std</th>\n",
              "      <th>min</th>\n",
              "      <th>25%</th>\n",
              "      <th>50%</th>\n",
              "      <th>75%</th>\n",
              "      <th>max</th>\n",
              "    </tr>\n",
              "  </thead>\n",
              "  <tbody>\n",
              "    <tr>\n",
              "      <th>Cars</th>\n",
              "      <td>5000.0</td>\n",
              "      <td>2.3336</td>\n",
              "      <td>2.035274</td>\n",
              "      <td>0.0</td>\n",
              "      <td>0.0</td>\n",
              "      <td>2.0</td>\n",
              "      <td>4.0</td>\n",
              "      <td>7.0</td>\n",
              "    </tr>\n",
              "    <tr>\n",
              "      <th>Bluecar counter</th>\n",
              "      <td>5000.0</td>\n",
              "      <td>2.3336</td>\n",
              "      <td>2.035274</td>\n",
              "      <td>0.0</td>\n",
              "      <td>0.0</td>\n",
              "      <td>2.0</td>\n",
              "      <td>4.0</td>\n",
              "      <td>7.0</td>\n",
              "    </tr>\n",
              "    <tr>\n",
              "      <th>Utilib counter</th>\n",
              "      <td>5000.0</td>\n",
              "      <td>0.0596</td>\n",
              "      <td>0.246698</td>\n",
              "      <td>0.0</td>\n",
              "      <td>0.0</td>\n",
              "      <td>0.0</td>\n",
              "      <td>0.0</td>\n",
              "      <td>2.0</td>\n",
              "    </tr>\n",
              "    <tr>\n",
              "      <th>Utilib 1.4 counter</th>\n",
              "      <td>5000.0</td>\n",
              "      <td>0.1230</td>\n",
              "      <td>0.356506</td>\n",
              "      <td>0.0</td>\n",
              "      <td>0.0</td>\n",
              "      <td>0.0</td>\n",
              "      <td>0.0</td>\n",
              "      <td>3.0</td>\n",
              "    </tr>\n",
              "    <tr>\n",
              "      <th>Charge Slots</th>\n",
              "      <td>5000.0</td>\n",
              "      <td>0.2534</td>\n",
              "      <td>0.546304</td>\n",
              "      <td>0.0</td>\n",
              "      <td>0.0</td>\n",
              "      <td>0.0</td>\n",
              "      <td>0.0</td>\n",
              "      <td>2.0</td>\n",
              "    </tr>\n",
              "    <tr>\n",
              "      <th>Postal code</th>\n",
              "      <td>5000.0</td>\n",
              "      <td>82634.8784</td>\n",
              "      <td>8835.865721</td>\n",
              "      <td>75001.0</td>\n",
              "      <td>75012.0</td>\n",
              "      <td>75019.0</td>\n",
              "      <td>92320.0</td>\n",
              "      <td>95880.0</td>\n",
              "    </tr>\n",
              "    <tr>\n",
              "      <th>Slots</th>\n",
              "      <td>5000.0</td>\n",
              "      <td>1.9324</td>\n",
              "      <td>1.905402</td>\n",
              "      <td>0.0</td>\n",
              "      <td>0.0</td>\n",
              "      <td>1.0</td>\n",
              "      <td>3.0</td>\n",
              "      <td>7.0</td>\n",
              "    </tr>\n",
              "    <tr>\n",
              "      <th>year</th>\n",
              "      <td>5000.0</td>\n",
              "      <td>2018.0000</td>\n",
              "      <td>0.000000</td>\n",
              "      <td>2018.0</td>\n",
              "      <td>2018.0</td>\n",
              "      <td>2018.0</td>\n",
              "      <td>2018.0</td>\n",
              "      <td>2018.0</td>\n",
              "    </tr>\n",
              "    <tr>\n",
              "      <th>month</th>\n",
              "      <td>5000.0</td>\n",
              "      <td>4.0000</td>\n",
              "      <td>0.000000</td>\n",
              "      <td>4.0</td>\n",
              "      <td>4.0</td>\n",
              "      <td>4.0</td>\n",
              "      <td>4.0</td>\n",
              "      <td>4.0</td>\n",
              "    </tr>\n",
              "    <tr>\n",
              "      <th>day</th>\n",
              "      <td>5000.0</td>\n",
              "      <td>4.9416</td>\n",
              "      <td>2.597063</td>\n",
              "      <td>1.0</td>\n",
              "      <td>3.0</td>\n",
              "      <td>5.0</td>\n",
              "      <td>7.0</td>\n",
              "      <td>9.0</td>\n",
              "    </tr>\n",
              "    <tr>\n",
              "      <th>hour</th>\n",
              "      <td>5000.0</td>\n",
              "      <td>11.5092</td>\n",
              "      <td>6.893549</td>\n",
              "      <td>0.0</td>\n",
              "      <td>6.0</td>\n",
              "      <td>11.0</td>\n",
              "      <td>18.0</td>\n",
              "      <td>23.0</td>\n",
              "    </tr>\n",
              "    <tr>\n",
              "      <th>minute</th>\n",
              "      <td>5000.0</td>\n",
              "      <td>29.2700</td>\n",
              "      <td>17.231741</td>\n",
              "      <td>0.0</td>\n",
              "      <td>14.0</td>\n",
              "      <td>29.0</td>\n",
              "      <td>44.0</td>\n",
              "      <td>59.0</td>\n",
              "    </tr>\n",
              "  </tbody>\n",
              "</table>\n",
              "</div>"
            ],
            "text/plain": [
              "                     count        mean          std  ...      50%      75%      max\n",
              "Cars                5000.0      2.3336     2.035274  ...      2.0      4.0      7.0\n",
              "Bluecar counter     5000.0      2.3336     2.035274  ...      2.0      4.0      7.0\n",
              "Utilib counter      5000.0      0.0596     0.246698  ...      0.0      0.0      2.0\n",
              "Utilib 1.4 counter  5000.0      0.1230     0.356506  ...      0.0      0.0      3.0\n",
              "Charge Slots        5000.0      0.2534     0.546304  ...      0.0      0.0      2.0\n",
              "Postal code         5000.0  82634.8784  8835.865721  ...  75019.0  92320.0  95880.0\n",
              "Slots               5000.0      1.9324     1.905402  ...      1.0      3.0      7.0\n",
              "year                5000.0   2018.0000     0.000000  ...   2018.0   2018.0   2018.0\n",
              "month               5000.0      4.0000     0.000000  ...      4.0      4.0      4.0\n",
              "day                 5000.0      4.9416     2.597063  ...      5.0      7.0      9.0\n",
              "hour                5000.0     11.5092     6.893549  ...     11.0     18.0     23.0\n",
              "minute              5000.0     29.2700    17.231741  ...     29.0     44.0     59.0\n",
              "\n",
              "[12 rows x 8 columns]"
            ]
          },
          "metadata": {
            "tags": []
          },
          "execution_count": 6
        }
      ]
    },
    {
      "cell_type": "markdown",
      "metadata": {
        "id": "izav-jnsOM44"
      },
      "source": [
        "**DATA CLEANING**"
      ]
    },
    {
      "cell_type": "markdown",
      "metadata": {
        "id": "rVoTpuBTOajL"
      },
      "source": [
        "In this stage we will try to prepare the data to be in a format that is usable"
      ]
    },
    {
      "cell_type": "markdown",
      "metadata": {
        "id": "GYCll6EcOT43"
      },
      "source": [
        "**1. Data Accuracy**"
      ]
    },
    {
      "cell_type": "code",
      "metadata": {
        "colab": {
          "base_uri": "https://localhost:8080/"
        },
        "id": "IviLXErULAo8",
        "outputId": "e353bd08-c988-40ea-f341-9cab336b0e10"
      },
      "source": [
        "#to look for the number of columns with missing values\n",
        "missing=auto.isna().sum()\n",
        "missing=missing[missing!=0]\n",
        "\n",
        "# a look at the \n",
        "print('number of columns with missing values',len(missing))\n",
        "\n",
        "missing.sort_values(ascending=True)"
      ],
      "execution_count": 7,
      "outputs": [
        {
          "output_type": "stream",
          "text": [
            "number of columns with missing values 2\n"
          ],
          "name": "stdout"
        },
        {
          "output_type": "execute_result",
          "data": {
            "text/plain": [
              "Displayed comment    4889\n",
              "Scheduled at         4953\n",
              "dtype: int64"
            ]
          },
          "metadata": {
            "tags": []
          },
          "execution_count": 7
        }
      ]
    },
    {
      "cell_type": "code",
      "metadata": {
        "id": "sveYYD7GLfKD"
      },
      "source": [
        "#we will drop these two columns\n",
        "#missing data can compromise onthe quality of our data and hence the quality of our model\n",
        "auto.drop(['Displayed comment','Scheduled at'],axis=1,inplace=True)"
      ],
      "execution_count": 8,
      "outputs": []
    },
    {
      "cell_type": "markdown",
      "metadata": {
        "id": "PSZ38roKTcId"
      },
      "source": [
        "**2. Consistency**"
      ]
    },
    {
      "cell_type": "code",
      "metadata": {
        "colab": {
          "base_uri": "https://localhost:8080/"
        },
        "id": "BsEdI1H6TasP",
        "outputId": "22b87fa5-f651-420b-b188-3ec20245aaf4"
      },
      "source": [
        "# to check for duplicated value\n",
        "print('sum of duplicated rows in the dataset: ',auto.duplicated().sum())\n",
        "print('shape of the original dataset: ',auto.shape)\n",
        "print('shape of the dataset after duplicate rows have been drooped: ',auto.drop_duplicates().shape)"
      ],
      "execution_count": 9,
      "outputs": [
        {
          "output_type": "stream",
          "text": [
            "sum of duplicated rows in the dataset:  0\n",
            "shape of the original dataset:  (5000, 23)\n",
            "shape of the dataset after duplicate rows have been drooped:  (5000, 23)\n"
          ],
          "name": "stdout"
        }
      ]
    },
    {
      "cell_type": "code",
      "metadata": {
        "id": "I07UHXsGTv4Q"
      },
      "source": [
        "# the result above suggest that the dataset has not have duplicate rows"
      ],
      "execution_count": null,
      "outputs": []
    },
    {
      "cell_type": "markdown",
      "metadata": {
        "id": "nGFoZpAZLStW"
      },
      "source": [
        "**3. Data Validity and Uniformity**"
      ]
    },
    {
      "cell_type": "code",
      "metadata": {
        "colab": {
          "base_uri": "https://localhost:8080/"
        },
        "id": "h5oQhE0bRmFj",
        "outputId": "71df73f9-7fa2-4dcc-c928-81f73909f42d"
      },
      "source": [
        "# we will rename the columns into a uniform convention\n",
        "# we will also remove white spaces in all the columns\n",
        "auto.columns =auto.columns.str.strip().str.lower().str.replace(' ', '_').str.replace('(', '').str.replace(')', '')\n",
        "auto.columns"
      ],
      "execution_count": 10,
      "outputs": [
        {
          "output_type": "execute_result",
          "data": {
            "text/plain": [
              "Index(['address', 'cars', 'bluecar_counter', 'utilib_counter',\n",
              "       'utilib_1.4_counter', 'charge_slots', 'charging_status', 'city', 'id',\n",
              "       'kind', 'geo_point', 'postal_code', 'public_name', 'rental_status',\n",
              "       'slots', 'station_type', 'status', 'subscription_status', 'year',\n",
              "       'month', 'day', 'hour', 'minute'],\n",
              "      dtype='object')"
            ]
          },
          "metadata": {
            "tags": []
          },
          "execution_count": 10
        }
      ]
    },
    {
      "cell_type": "code",
      "metadata": {
        "id": "34AqpEGYOSKR"
      },
      "source": [
        "# we will drop some rows and columns that will not be of use to the analysis\n",
        "auto.drop(['month','day','minute','address','year','subscription_status','geo_point','kind','charge_slots','charging_status','slots','status'],axis=1,inplace=True)"
      ],
      "execution_count": 11,
      "outputs": []
    },
    {
      "cell_type": "code",
      "metadata": {
        "colab": {
          "base_uri": "https://localhost:8080/"
        },
        "id": "QDEhO79gQD2J",
        "outputId": "6bd2702b-633e-4b3e-d7dc-7fd110aa0bd3"
      },
      "source": [
        "# to check if the columns were dropped\n",
        "auto.columns"
      ],
      "execution_count": 12,
      "outputs": [
        {
          "output_type": "execute_result",
          "data": {
            "text/plain": [
              "Index(['cars', 'bluecar_counter', 'utilib_counter', 'utilib_1.4_counter',\n",
              "       'city', 'id', 'postal_code', 'public_name', 'rental_status',\n",
              "       'station_type', 'hour'],\n",
              "      dtype='object')"
            ]
          },
          "metadata": {
            "tags": []
          },
          "execution_count": 12
        }
      ]
    },
    {
      "cell_type": "markdown",
      "metadata": {
        "id": "jX5w_juhQWcs"
      },
      "source": [
        "**4. Accuracy**"
      ]
    },
    {
      "cell_type": "code",
      "metadata": {
        "colab": {
          "base_uri": "https://localhost:8080/"
        },
        "id": "el2n14NkCfzR",
        "outputId": "1cef0e1b-53aa-4676-acf2-b32b48f929c1"
      },
      "source": [
        "#to check if the total observation in the cars column and bluecar counter\n",
        "print('sum of count in cars column: ',auto['cars'].sum())\n",
        "print('sum of bluecar counter: ',auto['bluecar_counter'].sum())"
      ],
      "execution_count": 13,
      "outputs": [
        {
          "output_type": "stream",
          "text": [
            "sum of count in cars column:  11668\n",
            "sum of bluecar counter:  11668\n"
          ],
          "name": "stdout"
        }
      ]
    },
    {
      "cell_type": "code",
      "metadata": {
        "id": "_hi6eNBOMdQD"
      },
      "source": [
        "# we observe that the records in the two columns concour with each other \n",
        "# the means that there was no error in how they were recorded."
      ],
      "execution_count": 14,
      "outputs": []
    },
    {
      "cell_type": "markdown",
      "metadata": {
        "id": "2zhzIzzVIG7e"
      },
      "source": [
        "**DATA ANALYSIS**"
      ]
    },
    {
      "cell_type": "markdown",
      "metadata": {
        "id": "rGe91PX3Cq1l"
      },
      "source": [
        "1. Identify the most popular hour of the day for picking up a shared electric car (Bluecar) in the city of Paris over the month of April 2018."
      ]
    },
    {
      "cell_type": "code",
      "metadata": {
        "id": "_MvfAReNd4sv",
        "colab": {
          "base_uri": "https://localhost:8080/",
          "height": 207
        },
        "outputId": "a200ca41-f792-4c45-88ce-143ad220f127"
      },
      "source": [
        "# we first filter out all the rows with the city of Paris from the entire dataset\n",
        "paris=auto[auto['city'].map(lambda city: 'Paris' in city)]\n",
        "\n",
        "#we then filter this dataset to have only the stations that are operationa\n",
        "pariss=paris[paris['rental_status']=='operational']\n",
        "pariss.head(3)"
      ],
      "execution_count": 17,
      "outputs": [
        {
          "output_type": "execute_result",
          "data": {
            "text/html": [
              "<div>\n",
              "<style scoped>\n",
              "    .dataframe tbody tr th:only-of-type {\n",
              "        vertical-align: middle;\n",
              "    }\n",
              "\n",
              "    .dataframe tbody tr th {\n",
              "        vertical-align: top;\n",
              "    }\n",
              "\n",
              "    .dataframe thead th {\n",
              "        text-align: right;\n",
              "    }\n",
              "</style>\n",
              "<table border=\"1\" class=\"dataframe\">\n",
              "  <thead>\n",
              "    <tr style=\"text-align: right;\">\n",
              "      <th></th>\n",
              "      <th>cars</th>\n",
              "      <th>bluecar_counter</th>\n",
              "      <th>utilib_counter</th>\n",
              "      <th>utilib_1.4_counter</th>\n",
              "      <th>city</th>\n",
              "      <th>id</th>\n",
              "      <th>postal_code</th>\n",
              "      <th>public_name</th>\n",
              "      <th>rental_status</th>\n",
              "      <th>station_type</th>\n",
              "      <th>hour</th>\n",
              "    </tr>\n",
              "  </thead>\n",
              "  <tbody>\n",
              "    <tr>\n",
              "      <th>0</th>\n",
              "      <td>0</td>\n",
              "      <td>0</td>\n",
              "      <td>0</td>\n",
              "      <td>0</td>\n",
              "      <td>Paris</td>\n",
              "      <td>paris-suffren-2</td>\n",
              "      <td>75015</td>\n",
              "      <td>Paris/Suffren/2</td>\n",
              "      <td>operational</td>\n",
              "      <td>station</td>\n",
              "      <td>11</td>\n",
              "    </tr>\n",
              "    <tr>\n",
              "      <th>1</th>\n",
              "      <td>6</td>\n",
              "      <td>6</td>\n",
              "      <td>0</td>\n",
              "      <td>0</td>\n",
              "      <td>Paris</td>\n",
              "      <td>paris-raymondlosserand-145</td>\n",
              "      <td>75014</td>\n",
              "      <td>Paris/Raymond Losserand/145</td>\n",
              "      <td>operational</td>\n",
              "      <td>station</td>\n",
              "      <td>7</td>\n",
              "    </tr>\n",
              "    <tr>\n",
              "      <th>3</th>\n",
              "      <td>3</td>\n",
              "      <td>3</td>\n",
              "      <td>1</td>\n",
              "      <td>0</td>\n",
              "      <td>Paris</td>\n",
              "      <td>paris-eugeneoudine-51</td>\n",
              "      <td>75013</td>\n",
              "      <td>Paris/EugÃ¨ne OudinÃ©/51</td>\n",
              "      <td>operational</td>\n",
              "      <td>station</td>\n",
              "      <td>4</td>\n",
              "    </tr>\n",
              "  </tbody>\n",
              "</table>\n",
              "</div>"
            ],
            "text/plain": [
              "   cars  bluecar_counter  utilib_counter  ...  rental_status station_type hour\n",
              "0     0                0               0  ...    operational      station   11\n",
              "1     6                6               0  ...    operational      station    7\n",
              "3     3                3               1  ...    operational      station    4\n",
              "\n",
              "[3 rows x 11 columns]"
            ]
          },
          "metadata": {
            "tags": []
          },
          "execution_count": 17
        }
      ]
    },
    {
      "cell_type": "code",
      "metadata": {
        "colab": {
          "base_uri": "https://localhost:8080/",
          "height": 227
        },
        "id": "pSVtNpRXC7TO",
        "outputId": "66652a63-7075-45cd-cad4-104be6635b1d"
      },
      "source": [
        "#we then create a pivot table\n",
        "parisspivot=pd.pivot_table(paris,values=['bluecar_counter'],index=['hour'],aggfunc=np.sum,fill_value=0)\n",
        "parisspivot.sort_values(by='bluecar_counter',ascending=False).head(5)"
      ],
      "execution_count": 18,
      "outputs": [
        {
          "output_type": "execute_result",
          "data": {
            "text/html": [
              "<div>\n",
              "<style scoped>\n",
              "    .dataframe tbody tr th:only-of-type {\n",
              "        vertical-align: middle;\n",
              "    }\n",
              "\n",
              "    .dataframe tbody tr th {\n",
              "        vertical-align: top;\n",
              "    }\n",
              "\n",
              "    .dataframe thead th {\n",
              "        text-align: right;\n",
              "    }\n",
              "</style>\n",
              "<table border=\"1\" class=\"dataframe\">\n",
              "  <thead>\n",
              "    <tr style=\"text-align: right;\">\n",
              "      <th></th>\n",
              "      <th>bluecar_counter</th>\n",
              "    </tr>\n",
              "    <tr>\n",
              "      <th>hour</th>\n",
              "      <th></th>\n",
              "    </tr>\n",
              "  </thead>\n",
              "  <tbody>\n",
              "    <tr>\n",
              "      <th>21</th>\n",
              "      <td>268</td>\n",
              "    </tr>\n",
              "    <tr>\n",
              "      <th>6</th>\n",
              "      <td>260</td>\n",
              "    </tr>\n",
              "    <tr>\n",
              "      <th>12</th>\n",
              "      <td>250</td>\n",
              "    </tr>\n",
              "    <tr>\n",
              "      <th>9</th>\n",
              "      <td>250</td>\n",
              "    </tr>\n",
              "    <tr>\n",
              "      <th>3</th>\n",
              "      <td>242</td>\n",
              "    </tr>\n",
              "  </tbody>\n",
              "</table>\n",
              "</div>"
            ],
            "text/plain": [
              "      bluecar_counter\n",
              "hour                 \n",
              "21                268\n",
              "6                 260\n",
              "12                250\n",
              "9                 250\n",
              "3                 242"
            ]
          },
          "metadata": {
            "tags": []
          },
          "execution_count": 18
        }
      ]
    },
    {
      "cell_type": "code",
      "metadata": {
        "colab": {
          "base_uri": "https://localhost:8080/",
          "height": 282
        },
        "id": "tVNUy76j5Ily",
        "outputId": "40527219-33ce-457c-c629-d321b6fe2d54"
      },
      "source": [
        "#to have a look at how the table is in a visual\n",
        "parisspivot.plot(kind='bar')\n",
        "plt.show()"
      ],
      "execution_count": 19,
      "outputs": [
        {
          "output_type": "display_data",
          "data": {
            "image/png": "[encoded data removed]",
            "text/plain": [
              "<Figure size 432x288 with 1 Axes>"
            ]
          },
          "metadata": {
            "tags": [],
            "needs_background": "light"
          }
        }
      ]
    },
    {
      "cell_type": "code",
      "metadata": {
        "id": "JnukIhZE8O92"
      },
      "source": [
        "# the most popular hour for picking up cars is at 9PM / 2100hrs"
      ],
      "execution_count": 20,
      "outputs": []
    },
    {
      "cell_type": "markdown",
      "metadata": {
        "id": "r9lMGFjnXWOf"
      },
      "source": [
        "2. Most popular station overall"
      ]
    },
    {
      "cell_type": "code",
      "metadata": {
        "id": "DFFaNU0h_0eG"
      },
      "source": [
        "#filter out to get only the operational rental status\n",
        "auto=auto[auto['rental_status']=='operational']"
      ],
      "execution_count": 21,
      "outputs": []
    },
    {
      "cell_type": "code",
      "metadata": {
        "colab": {
          "base_uri": "https://localhost:8080/"
        },
        "id": "YqDCAaGDXU6z",
        "outputId": "c93238c8-0fc3-4bcc-9b1a-ab9d673b564f"
      },
      "source": [
        "print('number of unique stations:' ,auto['id'].nunique())"
      ],
      "execution_count": 22,
      "outputs": [
        {
          "output_type": "stream",
          "text": [
            "number of unique stations: 1026\n"
          ],
          "name": "stdout"
        }
      ]
    },
    {
      "cell_type": "code",
      "metadata": {
        "id": "BLsQxto_Yq7h"
      },
      "source": [
        "# the are 1026 operational unique stations"
      ],
      "execution_count": 23,
      "outputs": []
    },
    {
      "cell_type": "code",
      "metadata": {
        "colab": {
          "base_uri": "https://localhost:8080/"
        },
        "id": "Bv2KwTeIY0jm",
        "outputId": "301d005a-9c35-493a-90ad-504818b3991b"
      },
      "source": [
        "auto.groupby('id')['cars'].agg(sum).sort_values(ascending=False).head(3)"
      ],
      "execution_count": 24,
      "outputs": [
        {
          "output_type": "execute_result",
          "data": {
            "text/plain": [
              "id\n",
              "fontenayauxroses-robertmarchand-32    50\n",
              "leplessisrobinson-galilee-16          49\n",
              "fontenayauxroses-lombard-20           47\n",
              "Name: cars, dtype: int64"
            ]
          },
          "metadata": {
            "tags": []
          },
          "execution_count": 24
        }
      ]
    },
    {
      "cell_type": "code",
      "metadata": {
        "id": "vb77s5NDXU9L"
      },
      "source": [
        "# the most popular station was fontenayauxroses-robertmarchand-32"
      ],
      "execution_count": 25,
      "outputs": []
    },
    {
      "cell_type": "code",
      "metadata": {
        "colab": {
          "base_uri": "https://localhost:8080/"
        },
        "id": "oJG37gs7-DIi",
        "outputId": "31140692-0058-41dc-ff38-4443e9845bcf"
      },
      "source": [
        "auto.groupby('id')['cars'].agg(sum).sort_values(ascending=True).head(3)"
      ],
      "execution_count": 26,
      "outputs": [
        {
          "output_type": "execute_result",
          "data": {
            "text/plain": [
              "id\n",
              "paris-lobau-parking             0\n",
              "epinaysurseine-argenteuil-28    0\n",
              "paris-dutuit-1                  0\n",
              "Name: cars, dtype: int64"
            ]
          },
          "metadata": {
            "tags": []
          },
          "execution_count": 26
        }
      ]
    },
    {
      "cell_type": "markdown",
      "metadata": {
        "id": "ZWb3SDBo812G"
      },
      "source": [
        "3. **popular station at the most popular picking up time**"
      ]
    },
    {
      "cell_type": "code",
      "metadata": {
        "id": "iQIyl9BpZb89"
      },
      "source": [
        "#we will filter the dataset to get only pick up times that were at 21 hrs"
      ],
      "execution_count": 27,
      "outputs": []
    },
    {
      "cell_type": "code",
      "metadata": {
        "colab": {
          "base_uri": "https://localhost:8080/",
          "height": 157
        },
        "id": "wXIv92jYZcCE",
        "outputId": "de81afe5-1f35-4963-c3aa-507a6b08cede"
      },
      "source": [
        "popstime=auto.loc[auto['hour']==21]\n",
        "popstime.head(2)"
      ],
      "execution_count": 28,
      "outputs": [
        {
          "output_type": "execute_result",
          "data": {
            "text/html": [
              "<div>\n",
              "<style scoped>\n",
              "    .dataframe tbody tr th:only-of-type {\n",
              "        vertical-align: middle;\n",
              "    }\n",
              "\n",
              "    .dataframe tbody tr th {\n",
              "        vertical-align: top;\n",
              "    }\n",
              "\n",
              "    .dataframe thead th {\n",
              "        text-align: right;\n",
              "    }\n",
              "</style>\n",
              "<table border=\"1\" class=\"dataframe\">\n",
              "  <thead>\n",
              "    <tr style=\"text-align: right;\">\n",
              "      <th></th>\n",
              "      <th>cars</th>\n",
              "      <th>bluecar_counter</th>\n",
              "      <th>utilib_counter</th>\n",
              "      <th>utilib_1.4_counter</th>\n",
              "      <th>city</th>\n",
              "      <th>id</th>\n",
              "      <th>postal_code</th>\n",
              "      <th>public_name</th>\n",
              "      <th>rental_status</th>\n",
              "      <th>station_type</th>\n",
              "      <th>hour</th>\n",
              "    </tr>\n",
              "  </thead>\n",
              "  <tbody>\n",
              "    <tr>\n",
              "      <th>13</th>\n",
              "      <td>0</td>\n",
              "      <td>0</td>\n",
              "      <td>0</td>\n",
              "      <td>0</td>\n",
              "      <td>Paris</td>\n",
              "      <td>paris-jeanmoulin-34</td>\n",
              "      <td>75014</td>\n",
              "      <td>Paris/Jean Moulin/34</td>\n",
              "      <td>operational</td>\n",
              "      <td>station</td>\n",
              "      <td>21</td>\n",
              "    </tr>\n",
              "    <tr>\n",
              "      <th>19</th>\n",
              "      <td>4</td>\n",
              "      <td>4</td>\n",
              "      <td>0</td>\n",
              "      <td>2</td>\n",
              "      <td>Paris</td>\n",
              "      <td>paris-renecoty-11</td>\n",
              "      <td>75014</td>\n",
              "      <td>Paris/RenÃ© Coty/11</td>\n",
              "      <td>operational</td>\n",
              "      <td>station</td>\n",
              "      <td>21</td>\n",
              "    </tr>\n",
              "  </tbody>\n",
              "</table>\n",
              "</div>"
            ],
            "text/plain": [
              "    cars  bluecar_counter  utilib_counter  ...  rental_status station_type hour\n",
              "13     0                0               0  ...    operational      station   21\n",
              "19     4                4               0  ...    operational      station   21\n",
              "\n",
              "[2 rows x 11 columns]"
            ]
          },
          "metadata": {
            "tags": []
          },
          "execution_count": 28
        }
      ]
    },
    {
      "cell_type": "code",
      "metadata": {
        "colab": {
          "base_uri": "https://localhost:8080/"
        },
        "id": "LD81MdZTB6Zz",
        "outputId": "12dedb02-76d3-4d44-8862-ace8c0f39037"
      },
      "source": [
        "print('the number of observation/ pickups at 9pm were: ',popstime.shape)"
      ],
      "execution_count": 29,
      "outputs": [
        {
          "output_type": "stream",
          "text": [
            "the number of observation/ pickups at 9pm were:  (209, 11)\n"
          ],
          "name": "stdout"
        }
      ]
    },
    {
      "cell_type": "code",
      "metadata": {
        "colab": {
          "base_uri": "https://localhost:8080/",
          "height": 377
        },
        "id": "U6-4cEz5DU24",
        "outputId": "07f9ab75-a75e-4c09-eb30-f901f2e6a549"
      },
      "source": [
        "#creating  a pivot table\n",
        "popstimepivot=pd.pivot_table(popstime,values=['bluecar_counter','id'],index=['public_name','station_type'],aggfunc=np.sum)\n",
        "popstimepivot.sort_values(by='bluecar_counter', ascending=False).head(10)"
      ],
      "execution_count": 30,
      "outputs": [
        {
          "output_type": "execute_result",
          "data": {
            "text/html": [
              "<div>\n",
              "<style scoped>\n",
              "    .dataframe tbody tr th:only-of-type {\n",
              "        vertical-align: middle;\n",
              "    }\n",
              "\n",
              "    .dataframe tbody tr th {\n",
              "        vertical-align: top;\n",
              "    }\n",
              "\n",
              "    .dataframe thead th {\n",
              "        text-align: right;\n",
              "    }\n",
              "</style>\n",
              "<table border=\"1\" class=\"dataframe\">\n",
              "  <thead>\n",
              "    <tr style=\"text-align: right;\">\n",
              "      <th></th>\n",
              "      <th></th>\n",
              "      <th>bluecar_counter</th>\n",
              "    </tr>\n",
              "    <tr>\n",
              "      <th>public_name</th>\n",
              "      <th>station_type</th>\n",
              "      <th></th>\n",
              "    </tr>\n",
              "  </thead>\n",
              "  <tbody>\n",
              "    <tr>\n",
              "      <th>Paris/Reille/59</th>\n",
              "      <th>station</th>\n",
              "      <td>8</td>\n",
              "    </tr>\n",
              "    <tr>\n",
              "      <th>Aulnay-sous-bois/Isidore Nerat/6</th>\n",
              "      <th>station</th>\n",
              "      <td>7</td>\n",
              "    </tr>\n",
              "    <tr>\n",
              "      <th>Paris/Boulard/1</th>\n",
              "      <th>station</th>\n",
              "      <td>7</td>\n",
              "    </tr>\n",
              "    <tr>\n",
              "      <th>Montreuil/Vincennes/11</th>\n",
              "      <th>station</th>\n",
              "      <td>6</td>\n",
              "    </tr>\n",
              "    <tr>\n",
              "      <th>Chaville/Anatole France/28</th>\n",
              "      <th>station</th>\n",
              "      <td>6</td>\n",
              "    </tr>\n",
              "    <tr>\n",
              "      <th>Dugny/Guynemer/17</th>\n",
              "      <th>full_station</th>\n",
              "      <td>6</td>\n",
              "    </tr>\n",
              "    <tr>\n",
              "      <th>Paris/Ãmile Reynaud/4</th>\n",
              "      <th>station</th>\n",
              "      <td>6</td>\n",
              "    </tr>\n",
              "    <tr>\n",
              "      <th>Nogent-sur-Marne/Georges ClÃ©menceau/10</th>\n",
              "      <th>station</th>\n",
              "      <td>6</td>\n",
              "    </tr>\n",
              "    <tr>\n",
              "      <th>Clamart/RÃ©publique/2</th>\n",
              "      <th>station</th>\n",
              "      <td>6</td>\n",
              "    </tr>\n",
              "    <tr>\n",
              "      <th>Issy-les-Moulineaux/Jean JaurÃ¨s/22</th>\n",
              "      <th>station</th>\n",
              "      <td>6</td>\n",
              "    </tr>\n",
              "  </tbody>\n",
              "</table>\n",
              "</div>"
            ],
            "text/plain": [
              "                                                      bluecar_counter\n",
              "public_name                             station_type                 \n",
              "Paris/Reille/59                         station                     8\n",
              "Aulnay-sous-bois/Isidore Nerat/6        station                     7\n",
              "Paris/Boulard/1                         station                     7\n",
              "Montreuil/Vincennes/11                  station                     6\n",
              "Chaville/Anatole France/28              station                     6\n",
              "Dugny/Guynemer/17                       full_station                6\n",
              "Paris/Ãmile Reynaud/4                  station                     6\n",
              "Nogent-sur-Marne/Georges ClÃ©menceau/10 station                     6\n",
              "Clamart/RÃ©publique/2                   station                     6\n",
              "Issy-les-Moulineaux/Jean JaurÃ¨s/22     station                     6"
            ]
          },
          "metadata": {
            "tags": []
          },
          "execution_count": 30
        }
      ]
    },
    {
      "cell_type": "code",
      "metadata": {
        "id": "eTlvtknkCLU0"
      },
      "source": [
        "# the most popular station Paris/Reille/59\n",
        "#the most popular full station is Dugny/Guynemer/17"
      ],
      "execution_count": 31,
      "outputs": []
    },
    {
      "cell_type": "markdown",
      "metadata": {
        "id": "ooEhdbw7H96V"
      },
      "source": [
        "4. **What postal code is the most popular for picking up Blue cars**"
      ]
    },
    {
      "cell_type": "code",
      "metadata": {
        "colab": {
          "base_uri": "https://localhost:8080/",
          "height": 227
        },
        "id": "MnpCBOoKIYwx",
        "outputId": "05ea2843-ea42-46a1-975a-d5e6f50faa93"
      },
      "source": [
        "pospiv=pd.pivot_table(auto,values=['bluecar_counter'],index=['postal_code','public_name'],aggfunc=np.sum)\n",
        "pospiv.sort_values(by='bluecar_counter',ascending=False).head(5)"
      ],
      "execution_count": 32,
      "outputs": [
        {
          "output_type": "execute_result",
          "data": {
            "text/html": [
              "<div>\n",
              "<style scoped>\n",
              "    .dataframe tbody tr th:only-of-type {\n",
              "        vertical-align: middle;\n",
              "    }\n",
              "\n",
              "    .dataframe tbody tr th {\n",
              "        vertical-align: top;\n",
              "    }\n",
              "\n",
              "    .dataframe thead th {\n",
              "        text-align: right;\n",
              "    }\n",
              "</style>\n",
              "<table border=\"1\" class=\"dataframe\">\n",
              "  <thead>\n",
              "    <tr style=\"text-align: right;\">\n",
              "      <th></th>\n",
              "      <th></th>\n",
              "      <th>bluecar_counter</th>\n",
              "    </tr>\n",
              "    <tr>\n",
              "      <th>postal_code</th>\n",
              "      <th>public_name</th>\n",
              "      <th></th>\n",
              "    </tr>\n",
              "  </thead>\n",
              "  <tbody>\n",
              "    <tr>\n",
              "      <th>92260</th>\n",
              "      <th>Fontenay-aux-Roses/Robert Marchand/32</th>\n",
              "      <td>50</td>\n",
              "    </tr>\n",
              "    <tr>\n",
              "      <th>92350</th>\n",
              "      <th>Le Plessis-Robinson/GalilÃ©e/16</th>\n",
              "      <td>49</td>\n",
              "    </tr>\n",
              "    <tr>\n",
              "      <th rowspan=\"2\" valign=\"top\">92260</th>\n",
              "      <th>Fontenay-aux-Roses/Lombard/20</th>\n",
              "      <td>47</td>\n",
              "    </tr>\n",
              "    <tr>\n",
              "      <th>Fontenay-aux-Roses/Division Leclerc/31</th>\n",
              "      <td>43</td>\n",
              "    </tr>\n",
              "    <tr>\n",
              "      <th>75011</th>\n",
              "      <th>Paris/Philippe Auguste/126</th>\n",
              "      <td>42</td>\n",
              "    </tr>\n",
              "  </tbody>\n",
              "</table>\n",
              "</div>"
            ],
            "text/plain": [
              "                                                    bluecar_counter\n",
              "postal_code public_name                                            \n",
              "92260       Fontenay-aux-Roses/Robert Marchand/32                50\n",
              "92350       Le Plessis-Robinson/GalilÃ©e/16                      49\n",
              "92260       Fontenay-aux-Roses/Lombard/20                        47\n",
              "            Fontenay-aux-Roses/Division Leclerc/31               43\n",
              "75011       Paris/Philippe Auguste/126                           42"
            ]
          },
          "metadata": {
            "tags": []
          },
          "execution_count": 32
        }
      ]
    },
    {
      "cell_type": "code",
      "metadata": {
        "id": "HCLbrqT5MDCO"
      },
      "source": [
        "#The postal code most popular is 92260 and it is of the station Fontenay-aux-Roses/Robert Marchand/32\t"
      ],
      "execution_count": 33,
      "outputs": []
    },
    {
      "cell_type": "markdown",
      "metadata": {
        "id": "PIvXgqjtLxwb"
      },
      "source": [
        "5. Postal code of station most popular for picking blue cars at the popular picking hours"
      ]
    },
    {
      "cell_type": "code",
      "metadata": {
        "colab": {
          "base_uri": "https://localhost:8080/",
          "height": 257
        },
        "id": "Z0tjBI8xMCJd",
        "outputId": "cf882ea2-0872-4568-b9ba-86870a47bb75"
      },
      "source": [
        "#popular hour is 2100 hrs\n",
        "#we will use popstime table that we created in question 3\n",
        "popstime.head(3)"
      ],
      "execution_count": 34,
      "outputs": [
        {
          "output_type": "execute_result",
          "data": {
            "text/html": [
              "<div>\n",
              "<style scoped>\n",
              "    .dataframe tbody tr th:only-of-type {\n",
              "        vertical-align: middle;\n",
              "    }\n",
              "\n",
              "    .dataframe tbody tr th {\n",
              "        vertical-align: top;\n",
              "    }\n",
              "\n",
              "    .dataframe thead th {\n",
              "        text-align: right;\n",
              "    }\n",
              "</style>\n",
              "<table border=\"1\" class=\"dataframe\">\n",
              "  <thead>\n",
              "    <tr style=\"text-align: right;\">\n",
              "      <th></th>\n",
              "      <th>cars</th>\n",
              "      <th>bluecar_counter</th>\n",
              "      <th>utilib_counter</th>\n",
              "      <th>utilib_1.4_counter</th>\n",
              "      <th>city</th>\n",
              "      <th>id</th>\n",
              "      <th>postal_code</th>\n",
              "      <th>public_name</th>\n",
              "      <th>rental_status</th>\n",
              "      <th>station_type</th>\n",
              "      <th>hour</th>\n",
              "    </tr>\n",
              "  </thead>\n",
              "  <tbody>\n",
              "    <tr>\n",
              "      <th>13</th>\n",
              "      <td>0</td>\n",
              "      <td>0</td>\n",
              "      <td>0</td>\n",
              "      <td>0</td>\n",
              "      <td>Paris</td>\n",
              "      <td>paris-jeanmoulin-34</td>\n",
              "      <td>75014</td>\n",
              "      <td>Paris/Jean Moulin/34</td>\n",
              "      <td>operational</td>\n",
              "      <td>station</td>\n",
              "      <td>21</td>\n",
              "    </tr>\n",
              "    <tr>\n",
              "      <th>19</th>\n",
              "      <td>4</td>\n",
              "      <td>4</td>\n",
              "      <td>0</td>\n",
              "      <td>2</td>\n",
              "      <td>Paris</td>\n",
              "      <td>paris-renecoty-11</td>\n",
              "      <td>75014</td>\n",
              "      <td>Paris/RenÃ© Coty/11</td>\n",
              "      <td>operational</td>\n",
              "      <td>station</td>\n",
              "      <td>21</td>\n",
              "    </tr>\n",
              "    <tr>\n",
              "      <th>25</th>\n",
              "      <td>0</td>\n",
              "      <td>0</td>\n",
              "      <td>0</td>\n",
              "      <td>0</td>\n",
              "      <td>Paris</td>\n",
              "      <td>paris-voltaire-182</td>\n",
              "      <td>75011</td>\n",
              "      <td>Paris/Voltaire/182</td>\n",
              "      <td>operational</td>\n",
              "      <td>station</td>\n",
              "      <td>21</td>\n",
              "    </tr>\n",
              "  </tbody>\n",
              "</table>\n",
              "</div>"
            ],
            "text/plain": [
              "    cars  bluecar_counter  utilib_counter  ...  rental_status station_type hour\n",
              "13     0                0               0  ...    operational      station   21\n",
              "19     4                4               0  ...    operational      station   21\n",
              "25     0                0               0  ...    operational      station   21\n",
              "\n",
              "[3 rows x 11 columns]"
            ]
          },
          "metadata": {
            "tags": []
          },
          "execution_count": 34
        }
      ]
    },
    {
      "cell_type": "code",
      "metadata": {
        "colab": {
          "base_uri": "https://localhost:8080/",
          "height": 227
        },
        "id": "E1-m0e3gIY0N",
        "outputId": "fe68375c-7605-4cef-d6f5-5c0c54aced77"
      },
      "source": [
        "popcodhr=pd.pivot_table(auto,values=['bluecar_counter'],index=['postal_code','public_name'],aggfunc=np.sum,fill_value=0)\n",
        "popcodhr.sort_values(by='bluecar_counter',ascending=False).head(5)"
      ],
      "execution_count": 35,
      "outputs": [
        {
          "output_type": "execute_result",
          "data": {
            "text/html": [
              "<div>\n",
              "<style scoped>\n",
              "    .dataframe tbody tr th:only-of-type {\n",
              "        vertical-align: middle;\n",
              "    }\n",
              "\n",
              "    .dataframe tbody tr th {\n",
              "        vertical-align: top;\n",
              "    }\n",
              "\n",
              "    .dataframe thead th {\n",
              "        text-align: right;\n",
              "    }\n",
              "</style>\n",
              "<table border=\"1\" class=\"dataframe\">\n",
              "  <thead>\n",
              "    <tr style=\"text-align: right;\">\n",
              "      <th></th>\n",
              "      <th></th>\n",
              "      <th>bluecar_counter</th>\n",
              "    </tr>\n",
              "    <tr>\n",
              "      <th>postal_code</th>\n",
              "      <th>public_name</th>\n",
              "      <th></th>\n",
              "    </tr>\n",
              "  </thead>\n",
              "  <tbody>\n",
              "    <tr>\n",
              "      <th>92260</th>\n",
              "      <th>Fontenay-aux-Roses/Robert Marchand/32</th>\n",
              "      <td>50</td>\n",
              "    </tr>\n",
              "    <tr>\n",
              "      <th>92350</th>\n",
              "      <th>Le Plessis-Robinson/GalilÃ©e/16</th>\n",
              "      <td>49</td>\n",
              "    </tr>\n",
              "    <tr>\n",
              "      <th rowspan=\"2\" valign=\"top\">92260</th>\n",
              "      <th>Fontenay-aux-Roses/Lombard/20</th>\n",
              "      <td>47</td>\n",
              "    </tr>\n",
              "    <tr>\n",
              "      <th>Fontenay-aux-Roses/Division Leclerc/31</th>\n",
              "      <td>43</td>\n",
              "    </tr>\n",
              "    <tr>\n",
              "      <th>75011</th>\n",
              "      <th>Paris/Philippe Auguste/126</th>\n",
              "      <td>42</td>\n",
              "    </tr>\n",
              "  </tbody>\n",
              "</table>\n",
              "</div>"
            ],
            "text/plain": [
              "                                                    bluecar_counter\n",
              "postal_code public_name                                            \n",
              "92260       Fontenay-aux-Roses/Robert Marchand/32                50\n",
              "92350       Le Plessis-Robinson/GalilÃ©e/16                      49\n",
              "92260       Fontenay-aux-Roses/Lombard/20                        47\n",
              "            Fontenay-aux-Roses/Division Leclerc/31               43\n",
              "75011       Paris/Philippe Auguste/126                           42"
            ]
          },
          "metadata": {
            "tags": []
          },
          "execution_count": 35
        }
      ]
    },
    {
      "cell_type": "markdown",
      "metadata": {
        "id": "XKX5HqvYO7Ok"
      },
      "source": [
        "**6. Postal code of station most popular for picking blue cars**"
      ]
    },
    {
      "cell_type": "code",
      "metadata": {
        "colab": {
          "base_uri": "https://localhost:8080/",
          "height": 227
        },
        "id": "XsLrXSAvPC3I",
        "outputId": "c6866183-c9b0-43dc-a33a-effa9c70bfb2"
      },
      "source": [
        "popcodhr1=pd.pivot_table(popstime,values=['bluecar_counter'],index=['postal_code','public_name'],aggfunc=np.sum)\n",
        "popcodhr1.sort_values(by='bluecar_counter',ascending=False).head(5)"
      ],
      "execution_count": 36,
      "outputs": [
        {
          "output_type": "execute_result",
          "data": {
            "text/html": [
              "<div>\n",
              "<style scoped>\n",
              "    .dataframe tbody tr th:only-of-type {\n",
              "        vertical-align: middle;\n",
              "    }\n",
              "\n",
              "    .dataframe tbody tr th {\n",
              "        vertical-align: top;\n",
              "    }\n",
              "\n",
              "    .dataframe thead th {\n",
              "        text-align: right;\n",
              "    }\n",
              "</style>\n",
              "<table border=\"1\" class=\"dataframe\">\n",
              "  <thead>\n",
              "    <tr style=\"text-align: right;\">\n",
              "      <th></th>\n",
              "      <th></th>\n",
              "      <th>bluecar_counter</th>\n",
              "    </tr>\n",
              "    <tr>\n",
              "      <th>postal_code</th>\n",
              "      <th>public_name</th>\n",
              "      <th></th>\n",
              "    </tr>\n",
              "  </thead>\n",
              "  <tbody>\n",
              "    <tr>\n",
              "      <th>75014</th>\n",
              "      <th>Paris/Reille/59</th>\n",
              "      <td>8</td>\n",
              "    </tr>\n",
              "    <tr>\n",
              "      <th>93600</th>\n",
              "      <th>Aulnay-sous-bois/Isidore Nerat/6</th>\n",
              "      <td>7</td>\n",
              "    </tr>\n",
              "    <tr>\n",
              "      <th>75014</th>\n",
              "      <th>Paris/Boulard/1</th>\n",
              "      <td>7</td>\n",
              "    </tr>\n",
              "    <tr>\n",
              "      <th>93100</th>\n",
              "      <th>Montreuil/Vincennes/11</th>\n",
              "      <td>6</td>\n",
              "    </tr>\n",
              "    <tr>\n",
              "      <th>92600</th>\n",
              "      <th>AsniÃ¨res-sur-Seine/Georges Guynemer/97</th>\n",
              "      <td>6</td>\n",
              "    </tr>\n",
              "  </tbody>\n",
              "</table>\n",
              "</div>"
            ],
            "text/plain": [
              "                                                     bluecar_counter\n",
              "postal_code public_name                                             \n",
              "75014       Paris/Reille/59                                        8\n",
              "93600       Aulnay-sous-bois/Isidore Nerat/6                       7\n",
              "75014       Paris/Boulard/1                                        7\n",
              "93100       Montreuil/Vincennes/11                                 6\n",
              "92600       AsniÃ¨res-sur-Seine/Georges Guynemer/97                6"
            ]
          },
          "metadata": {
            "tags": []
          },
          "execution_count": 36
        }
      ]
    },
    {
      "cell_type": "code",
      "metadata": {
        "id": "4B7EsHFtPPgc"
      },
      "source": [
        "# at the most popular car picking time, the most favourite station to pick a blue car is Paris/Reille/59"
      ],
      "execution_count": 37,
      "outputs": []
    },
    {
      "cell_type": "markdown",
      "metadata": {
        "id": "LCMqkYhmPIRh"
      },
      "source": [
        "**7. Do the results change if you consider Utilib and Utilib 1.4 instead of Blue cars**"
      ]
    },
    {
      "cell_type": "code",
      "metadata": {
        "colab": {
          "base_uri": "https://localhost:8080/",
          "height": 227
        },
        "id": "mQmTpe0mPDBh",
        "outputId": "836c9367-3511-473f-93a0-531191fcc3a7"
      },
      "source": [
        "popcodhr=pd.pivot_table(auto,values=['utilib_counter'],index=['postal_code','public_name'],aggfunc=np.sum,fill_value=0)\n",
        "popcodhr.sort_values(by='utilib_counter',ascending=False).head(5)"
      ],
      "execution_count": 38,
      "outputs": [
        {
          "output_type": "execute_result",
          "data": {
            "text/html": [
              "<div>\n",
              "<style scoped>\n",
              "    .dataframe tbody tr th:only-of-type {\n",
              "        vertical-align: middle;\n",
              "    }\n",
              "\n",
              "    .dataframe tbody tr th {\n",
              "        vertical-align: top;\n",
              "    }\n",
              "\n",
              "    .dataframe thead th {\n",
              "        text-align: right;\n",
              "    }\n",
              "</style>\n",
              "<table border=\"1\" class=\"dataframe\">\n",
              "  <thead>\n",
              "    <tr style=\"text-align: right;\">\n",
              "      <th></th>\n",
              "      <th></th>\n",
              "      <th>utilib_counter</th>\n",
              "    </tr>\n",
              "    <tr>\n",
              "      <th>postal_code</th>\n",
              "      <th>public_name</th>\n",
              "      <th></th>\n",
              "    </tr>\n",
              "  </thead>\n",
              "  <tbody>\n",
              "    <tr>\n",
              "      <th>75017</th>\n",
              "      <th>Paris/Mac Mahon/5</th>\n",
              "      <td>4</td>\n",
              "    </tr>\n",
              "    <tr>\n",
              "      <th>75014</th>\n",
              "      <th>Paris/Porte de Montrouge/8</th>\n",
              "      <td>4</td>\n",
              "    </tr>\n",
              "    <tr>\n",
              "      <th>92230</th>\n",
              "      <th>Gennevilliers/Petits marais/4</th>\n",
              "      <td>4</td>\n",
              "    </tr>\n",
              "    <tr>\n",
              "      <th>92360</th>\n",
              "      <th>Meudon/MarÃ©chal Juin/18</th>\n",
              "      <td>4</td>\n",
              "    </tr>\n",
              "    <tr>\n",
              "      <th>75015</th>\n",
              "      <th>Paris/HÃ©ricart/54</th>\n",
              "      <td>3</td>\n",
              "    </tr>\n",
              "  </tbody>\n",
              "</table>\n",
              "</div>"
            ],
            "text/plain": [
              "                                           utilib_counter\n",
              "postal_code public_name                                  \n",
              "75017       Paris/Mac Mahon/5                           4\n",
              "75014       Paris/Porte de Montrouge/8                  4\n",
              "92230       Gennevilliers/Petits marais/4               4\n",
              "92360       Meudon/MarÃ©chal Juin/18                    4\n",
              "75015       Paris/HÃ©ricart/54                          3"
            ]
          },
          "metadata": {
            "tags": []
          },
          "execution_count": 38
        }
      ]
    },
    {
      "cell_type": "code",
      "metadata": {
        "id": "OySxs-koQv1P"
      },
      "source": [
        "# the most popular station to pick up a utilib car is Paris/Mac Mahon/5,Paris/Porte de Montrouge/8,\tGennevilliers/Petits marais/4,Meudon/MarÃ©chal Juin/18"
      ],
      "execution_count": 39,
      "outputs": []
    },
    {
      "cell_type": "code",
      "metadata": {
        "colab": {
          "base_uri": "https://localhost:8080/",
          "height": 227
        },
        "id": "XQOY53gJQhob",
        "outputId": "6ec4b4db-4cf2-4e49-bf59-2941eb02c50c"
      },
      "source": [
        "popcodhr=pd.pivot_table(auto,values=['utilib_1.4_counter'],index=['postal_code','public_name'],aggfunc=np.sum,fill_value=0)\n",
        "popcodhr.sort_values(by='utilib_1.4_counter',ascending=False).head(5)"
      ],
      "execution_count": 40,
      "outputs": [
        {
          "output_type": "execute_result",
          "data": {
            "text/html": [
              "<div>\n",
              "<style scoped>\n",
              "    .dataframe tbody tr th:only-of-type {\n",
              "        vertical-align: middle;\n",
              "    }\n",
              "\n",
              "    .dataframe tbody tr th {\n",
              "        vertical-align: top;\n",
              "    }\n",
              "\n",
              "    .dataframe thead th {\n",
              "        text-align: right;\n",
              "    }\n",
              "</style>\n",
              "<table border=\"1\" class=\"dataframe\">\n",
              "  <thead>\n",
              "    <tr style=\"text-align: right;\">\n",
              "      <th></th>\n",
              "      <th></th>\n",
              "      <th>utilib_1.4_counter</th>\n",
              "    </tr>\n",
              "    <tr>\n",
              "      <th>postal_code</th>\n",
              "      <th>public_name</th>\n",
              "      <th></th>\n",
              "    </tr>\n",
              "  </thead>\n",
              "  <tbody>\n",
              "    <tr>\n",
              "      <th>92310</th>\n",
              "      <th>SÃ¨vres/Grande Rue/123</th>\n",
              "      <td>9</td>\n",
              "    </tr>\n",
              "    <tr>\n",
              "      <th>75014</th>\n",
              "      <th>Paris/Porte de Montrouge/8</th>\n",
              "      <td>7</td>\n",
              "    </tr>\n",
              "    <tr>\n",
              "      <th>92310</th>\n",
              "      <th>SÃ¨vres/WolfenbÃ¼ttel/1</th>\n",
              "      <td>7</td>\n",
              "    </tr>\n",
              "    <tr>\n",
              "      <th>75017</th>\n",
              "      <th>Paris/Clichy/181</th>\n",
              "      <td>4</td>\n",
              "    </tr>\n",
              "    <tr>\n",
              "      <th>91370</th>\n",
              "      <th>VerriÃ¨res-le-Buisson/MarÃ©chal Foch/56</th>\n",
              "      <td>4</td>\n",
              "    </tr>\n",
              "  </tbody>\n",
              "</table>\n",
              "</div>"
            ],
            "text/plain": [
              "                                                     utilib_1.4_counter\n",
              "postal_code public_name                                                \n",
              "92310       SÃ¨vres/Grande Rue/123                                    9\n",
              "75014       Paris/Porte de Montrouge/8                                7\n",
              "92310       SÃ¨vres/WolfenbÃ¼ttel/1                                   7\n",
              "75017       Paris/Clichy/181                                          4\n",
              "91370       VerriÃ¨res-le-Buisson/MarÃ©chal Foch/56                   4"
            ]
          },
          "metadata": {
            "tags": []
          },
          "execution_count": 40
        }
      ]
    },
    {
      "cell_type": "code",
      "metadata": {
        "id": "k8XCztlGPDD6"
      },
      "source": [
        "#the most popular station to pick a utilib 1.4 is SÃ¨vres/Grande Rue/123"
      ],
      "execution_count": 41,
      "outputs": []
    },
    {
      "cell_type": "code",
      "metadata": {
        "id": "Yy8gGaLiPDGH"
      },
      "source": [
        ""
      ],
      "execution_count": 41,
      "outputs": []
    }
  ]
}